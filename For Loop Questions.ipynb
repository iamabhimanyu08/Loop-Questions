{
 "cells": [
  {
   "cell_type": "markdown",
   "metadata": {},
   "source": [
    "# Basic Questions"
   ]
  },
  {
   "cell_type": "markdown",
   "metadata": {},
   "source": [
    "### Question 1. Write a Python program to print the numbers from 1 to 10 using a `for` loop."
   ]
  },
  {
   "cell_type": "code",
   "execution_count": 1,
   "metadata": {},
   "outputs": [
    {
     "name": "stdout",
     "output_type": "stream",
     "text": [
      "1\n",
      "2\n",
      "3\n",
      "4\n",
      "5\n",
      "6\n",
      "7\n",
      "8\n",
      "9\n",
      "10\n"
     ]
    }
   ],
   "source": [
    "for i in range(1,11):\n",
    "    print(i)"
   ]
  },
  {
   "cell_type": "markdown",
   "metadata": {},
   "source": [
    "### Question 2. Create a program that calculates the sum of all numbers in a list using a `for` loop."
   ]
  },
  {
   "cell_type": "code",
   "execution_count": 2,
   "metadata": {},
   "outputs": [
    {
     "name": "stdout",
     "output_type": "stream",
     "text": [
      "The sum of all numbers is : 180\n"
     ]
    }
   ],
   "source": [
    "num_list = [1,3,5,35,33,4,53,24,22]   # Entering the numbers for calculation\n",
    "\n",
    "total = 0   # Initialising the variable to store the total of numbers\n",
    "\n",
    "for num in num_list:\n",
    "    total += num\n",
    "    \n",
    "print (f'The sum of all numbers is : {total}')"
   ]
  },
  {
   "cell_type": "markdown",
   "metadata": {},
   "source": [
    "### Question 3. Write a program to print the characters of a string in reverse order using a `for` loop."
   ]
  },
  {
   "cell_type": "code",
   "execution_count": 3,
   "metadata": {},
   "outputs": [
    {
     "name": "stdout",
     "output_type": "stream",
     "text": [
      "Please enter the stringhello, my name is abhimanyu sharma and i am practicing python\n",
      "nohtyp gnicitcarp ma i dna amrahs uynamihba si eman ym ,olleh\n"
     ]
    }
   ],
   "source": [
    "string_1 = input(\"Please enter the string\")   #Ask the user to give input for a new string\n",
    "\n",
    "for i in range(len(string_1) -1,-1,-1):\n",
    "    print(string_1[i], end=\"\")\n",
    "    \n",
    "print()"
   ]
  },
  {
   "cell_type": "markdown",
   "metadata": {},
   "source": [
    "### Question 4. Develop a program that finds the factorial of a given number using a `for` loop."
   ]
  },
  {
   "cell_type": "code",
   "execution_count": 4,
   "metadata": {},
   "outputs": [
    {
     "name": "stdout",
     "output_type": "stream",
     "text": [
      "Please enter the number to calculate the factorial13\n",
      "The factorial of the given 13 is 92. \n"
     ]
    }
   ],
   "source": [
    "n =  int(input(\"Please enter the number to calculate the factorial\"))\n",
    "\n",
    "factorial = 1 # Initialising the initial variable\n",
    "\n",
    "for i in range (1,n+1):\n",
    "    factorial += i\n",
    "\n",
    "print(f\"The factorial of the given {n} is {factorial}. \")"
   ]
  },
  {
   "cell_type": "markdown",
   "metadata": {},
   "source": [
    "### Question 5. Create a program to print the multiplication table of a given number using a `for` loop."
   ]
  },
  {
   "cell_type": "code",
   "execution_count": 5,
   "metadata": {},
   "outputs": [
    {
     "name": "stdout",
     "output_type": "stream",
     "text": [
      "Please enter the number to know the multiplication table18\n",
      "The multiplication table for 18 is \n",
      "18 * 1 = 18\n",
      "18 * 2 = 36\n",
      "18 * 3 = 54\n",
      "18 * 4 = 72\n",
      "18 * 5 = 90\n",
      "18 * 6 = 108\n",
      "18 * 7 = 126\n",
      "18 * 8 = 144\n",
      "18 * 9 = 162\n",
      "18 * 10 = 180\n"
     ]
    }
   ],
   "source": [
    "n = int(input(\"Please enter the number to know the multiplication table\"))\n",
    "\n",
    "print(f'The multiplication table for {n} is ')\n",
    "\n",
    "for i in range(1,11):\n",
    "    final = n*i\n",
    "\n",
    "    print(f'{n} * {i} = {final}')"
   ]
  },
  {
   "cell_type": "markdown",
   "metadata": {},
   "source": [
    "### Question 6. Write a program that counts the number of even and odd numbers in a list using a `for` loop."
   ]
  },
  {
   "cell_type": "code",
   "execution_count": 6,
   "metadata": {},
   "outputs": [
    {
     "name": "stdout",
     "output_type": "stream",
     "text": [
      "The total count of even numbers : 9\n",
      "The total count of odd numbers : 5\n"
     ]
    }
   ],
   "source": [
    "numb_1 = [1,3,4,2,4,2,4,334,22,42,24,3,55,223,]\n",
    "even_count = 0  # Initialising the variable\n",
    "odd_count = 0 \n",
    "\n",
    "for num in numb_1:\n",
    "    if num%2 == 0:\n",
    "        even_count +=1\n",
    "        \n",
    "    else:\n",
    "        odd_count+=1\n",
    "    \n",
    "print(f'The total count of even numbers : {even_count}')\n",
    "print(f'The total count of odd numbers : {odd_count}')\n"
   ]
  },
  {
   "cell_type": "markdown",
   "metadata": {},
   "source": [
    "### Question 7. Develop a program that prints the squares of numbers from 1 to 5 using a `for` loop."
   ]
  },
  {
   "cell_type": "code",
   "execution_count": 7,
   "metadata": {},
   "outputs": [
    {
     "name": "stdout",
     "output_type": "stream",
     "text": [
      "The square of the 1 is 1\n",
      "The square of the 2 is 4\n",
      "The square of the 3 is 9\n",
      "The square of the 4 is 16\n",
      "The square of the 5 is 25\n"
     ]
    }
   ],
   "source": [
    "for i in range(1,6):\n",
    "    square = i**2\n",
    "    print(f'The square of the {i} is {square}')"
   ]
  },
  {
   "cell_type": "markdown",
   "metadata": {},
   "source": [
    "### Question 8. Create a program to find the length of a string without using the `len()` function."
   ]
  },
  {
   "cell_type": "code",
   "execution_count": 10,
   "metadata": {},
   "outputs": [
    {
     "name": "stdout",
     "output_type": "stream",
     "text": [
      "Please Enter a string: hello, my name is abhimanyu sharma and i am practicing python\n",
      "The length of the string is: 61\n"
     ]
    }
   ],
   "source": [
    "string_1 = input(\"Please Enter a string: \")\n",
    "\n",
    "length = 0\n",
    "\n",
    "for char in string_1:\n",
    "    length += 1\n",
    "\n",
    "\n",
    "print(\"The length of the string is:\", length)"
   ]
  },
  {
   "cell_type": "markdown",
   "metadata": {},
   "source": [
    "### Question 9. Write a program that calculates the average of a list of numbers using a `for` loop."
   ]
  },
  {
   "cell_type": "code",
   "execution_count": 12,
   "metadata": {},
   "outputs": [
    {
     "name": "stdout",
     "output_type": "stream",
     "text": [
      "The averages of the given numbers 83.53333333333333\n"
     ]
    }
   ],
   "source": [
    "numbers = [2,4,5,2,5,533,5,6,3,5,3,5,666,7,2]\n",
    "\n",
    "count = 0\n",
    "total = 0\n",
    "\n",
    "for num in numbers:\n",
    "    count+=1\n",
    "    total +=num\n",
    "\n",
    "Average = total/count \n",
    "\n",
    "print ( f'The averages of the given numbers {Average}')"
   ]
  },
  {
   "cell_type": "markdown",
   "metadata": {},
   "source": [
    "### Question 10. Develop a program that prints the first `n` Fibonacci numbers using a `for` loop."
   ]
  },
  {
   "cell_type": "code",
   "execution_count": 13,
   "metadata": {},
   "outputs": [
    {
     "name": "stdout",
     "output_type": "stream",
     "text": [
      "Please enter the number to generate the fibonacci sequence : 14\n",
      "The first 14 fibonacci numbers are: \n",
      "0 1 1 2 3 5 8 13 21 34 55 89 144 233 "
     ]
    }
   ],
   "source": [
    "n = int(input(\"Please enter the number to generate the fibonacci sequence : \"))\n",
    "\n",
    "fib_sequence = [0,1]\n",
    "\n",
    "for i in range (2,n):\n",
    "    next_fib= fib_sequence [-1] + fib_sequence[-2]\n",
    "    fib_sequence.append(next_fib)\n",
    "    \n",
    "print(\"The first\", n,\"fibonacci numbers are: \")\n",
    "for number in fib_sequence:\n",
    "    print (number, end = \" \")"
   ]
  },
  {
   "cell_type": "markdown",
   "metadata": {},
   "source": [
    "# Intermediate Level"
   ]
  },
  {
   "cell_type": "markdown",
   "metadata": {},
   "source": [
    "### Question 11. Write a program to check if a given list contains any duplicates using a `for` loop."
   ]
  },
  {
   "cell_type": "code",
   "execution_count": 14,
   "metadata": {},
   "outputs": [
    {
     "name": "stdout",
     "output_type": "stream",
     "text": [
      "The list contains the duplicate elements\n"
     ]
    }
   ],
   "source": [
    "def duplicates(list_1):\n",
    "    for i in range(len(list_1)):\n",
    "        for j in range(i+1 ,  len(list_1)):\n",
    "            if list_1[i]==list_1[j]:\n",
    "                return True\n",
    "    return False\n",
    "\n",
    "new_list = [1,1,3,4,2,4,2,4,123,5121,11,4,2134,11]\n",
    "if duplicates(new_list):\n",
    "    print(\"The list contains the duplicate elements\")\n",
    "else:\n",
    "    print(\"The list does not have duplicate elements\")"
   ]
  },
  {
   "cell_type": "markdown",
   "metadata": {},
   "source": [
    "### Question 12. Create a program that prints the prime numbers in a given range using a `for` loop."
   ]
  },
  {
   "cell_type": "code",
   "execution_count": 15,
   "metadata": {},
   "outputs": [
    {
     "name": "stdout",
     "output_type": "stream",
     "text": [
      "Please enter the starting number :4\n",
      "Please enter the ending number :89\n",
      "The prime numbers which falls between 4 and 89\n",
      "5\n",
      "7\n",
      "11\n",
      "13\n",
      "17\n",
      "19\n",
      "23\n",
      "29\n",
      "31\n",
      "37\n",
      "41\n",
      "43\n",
      "47\n",
      "53\n",
      "59\n",
      "61\n",
      "67\n",
      "71\n",
      "73\n",
      "79\n",
      "83\n",
      "89\n"
     ]
    }
   ],
   "source": [
    "def prime_num(num):\n",
    "    if num <= 1:\n",
    "        return False\n",
    "    for i in range(2 , int(num**0.5) + 1 ):\n",
    "        if num % i == 0:\n",
    "            return False\n",
    "    return True\n",
    "\n",
    "start_range = int(input(\"Please enter the starting number :\"))\n",
    "end_range = int(input(\"Please enter the ending number :\"))\n",
    "\n",
    "print(f\"The prime numbers which falls between {start_range} and {end_range}\")\n",
    "for number in range (start_range , end_range +1 ):\n",
    "    if prime_num(number):\n",
    "        print(number)"
   ]
  },
  {
   "cell_type": "markdown",
   "metadata": {},
   "source": [
    "### Question 13. Develop a program that counts the number of vowels in a string using a `for` loop."
   ]
  },
  {
   "cell_type": "code",
   "execution_count": 16,
   "metadata": {},
   "outputs": [
    {
     "name": "stdout",
     "output_type": "stream",
     "text": [
      "please enter the string hello, my name is abhimanyu sharma and i am practicing python\n",
      "The number of the total vowel in the given string are : 18\n"
     ]
    }
   ],
   "source": [
    "string_1 = input(\"please enter the string \").lower()\n",
    "\n",
    "vowel_count = 0\n",
    "\n",
    "vowel = \"aeiou\"\n",
    "\n",
    "for char in string_1:\n",
    "    if char in vowel:\n",
    "          vowel_count+=1\n",
    "            \n",
    "print(f'The number of the total vowel in the given string are : {vowel_count}')\n",
    "    "
   ]
  },
  {
   "cell_type": "markdown",
   "metadata": {},
   "source": [
    "### Question 14. Write a program to find the maximum element in a 2D list using a nested `for` loop."
   ]
  },
  {
   "cell_type": "code",
   "execution_count": 17,
   "metadata": {},
   "outputs": [
    {
     "name": "stdout",
     "output_type": "stream",
     "text": [
      "The maximum element in the given list is :53\n"
     ]
    }
   ],
   "source": [
    "list_1 = [\n",
    "    \n",
    "    [1,2,4,5,6],\n",
    "    [3,4,53,52],\n",
    "    [43,5,42,45]\n",
    "]\n",
    "\n",
    "max_element = float('-inf')\n",
    "\n",
    "\n",
    "for row in list_1:\n",
    "    for element in row:\n",
    "        if element > max_element:\n",
    "            max_element = element\n",
    "            \n",
    "print(f'The maximum element in the given list is :{max_element}')\n"
   ]
  },
  {
   "cell_type": "markdown",
   "metadata": {},
   "source": [
    "### Question 15. Create a program that removes all occurrences of a specific element from a list using a `for` loop.\n"
   ]
  },
  {
   "cell_type": "code",
   "execution_count": 18,
   "metadata": {},
   "outputs": [
    {
     "name": "stdout",
     "output_type": "stream",
     "text": [
      "The updated list after removing {3} : [1, 14, 2, 4, 1, 4, 21, 5, 5123, 511, 42]\n"
     ]
    }
   ],
   "source": [
    "list_1 = [1,3,3,14,2,4,1,4,21,5,5123,511,42]\n",
    "\n",
    "element_2_remove = 3\n",
    "\n",
    "new_list = [ ]\n",
    "\n",
    "\n",
    "for item in list_1:\n",
    "    if item != element_2_remove:\n",
    "        new_list.append(item)\n",
    "        \n",
    "list_1 = new_list\n",
    "\n",
    "\n",
    "print(f'The updated list after removing' , {element_2_remove}, \":\", list_1)"
   ]
  },
  {
   "cell_type": "markdown",
   "metadata": {},
   "source": [
    "### Question 16. Develop a program that generates a multiplication table for numbers from 1 to 5 using a nested `for` loop."
   ]
  },
  {
   "cell_type": "code",
   "execution_count": 19,
   "metadata": {},
   "outputs": [
    {
     "name": "stdout",
     "output_type": "stream",
     "text": [
      "The multiplication table for 1:\n",
      "1*1 = 1\n",
      "1*2 = 2\n",
      "1*3 = 3\n",
      "1*4 = 4\n",
      "1*5 = 5\n",
      "1*6 = 6\n",
      "1*7 = 7\n",
      "1*8 = 8\n",
      "1*9 = 9\n",
      "1*10 = 10\n",
      "\n",
      "The multiplication table for 2:\n",
      "2*1 = 2\n",
      "2*2 = 4\n",
      "2*3 = 6\n",
      "2*4 = 8\n",
      "2*5 = 10\n",
      "2*6 = 12\n",
      "2*7 = 14\n",
      "2*8 = 16\n",
      "2*9 = 18\n",
      "2*10 = 20\n",
      "\n",
      "The multiplication table for 3:\n",
      "3*1 = 3\n",
      "3*2 = 6\n",
      "3*3 = 9\n",
      "3*4 = 12\n",
      "3*5 = 15\n",
      "3*6 = 18\n",
      "3*7 = 21\n",
      "3*8 = 24\n",
      "3*9 = 27\n",
      "3*10 = 30\n",
      "\n",
      "The multiplication table for 4:\n",
      "4*1 = 4\n",
      "4*2 = 8\n",
      "4*3 = 12\n",
      "4*4 = 16\n",
      "4*5 = 20\n",
      "4*6 = 24\n",
      "4*7 = 28\n",
      "4*8 = 32\n",
      "4*9 = 36\n",
      "4*10 = 40\n",
      "\n",
      "The multiplication table for 5:\n",
      "5*1 = 5\n",
      "5*2 = 10\n",
      "5*3 = 15\n",
      "5*4 = 20\n",
      "5*5 = 25\n",
      "5*6 = 30\n",
      "5*7 = 35\n",
      "5*8 = 40\n",
      "5*9 = 45\n",
      "5*10 = 50\n",
      "\n"
     ]
    }
   ],
   "source": [
    "start = 1\n",
    "end = 5\n",
    "\n",
    "for i in range (start, end + 1 ):\n",
    "    print(f'The multiplication table for {i}:')\n",
    "    for j in range (1,11):\n",
    "        result = i*j\n",
    "        print(f'{i}*{j} = {result}')\n",
    "    print()"
   ]
  },
  {
   "cell_type": "markdown",
   "metadata": {},
   "source": [
    "### Question 17. Write a program that converts a list of Fahrenheit temperatures to Celsius using a `for` loop."
   ]
  },
  {
   "cell_type": "code",
   "execution_count": 20,
   "metadata": {},
   "outputs": [
    {
     "name": "stdout",
     "output_type": "stream",
     "text": [
      "Celsius Temperatures: [-5.555555555555555, -16.11111111111111, -15.555555555555555, 19.444444444444443, 28.88888888888889, -11.666666666666666, 1.1111111111111112, 13.333333333333334, -16.666666666666668, -5.555555555555555]\n"
     ]
    }
   ],
   "source": [
    "fahrenheit_temp = [22,3,4,67,84,11,34,56,2,22]\n",
    "celsius_temperatures = [(fahrenheit - 32) * 5/9 for fahrenheit in fahrenheit_temp]\n",
    "print(\"Celsius Temperatures:\", celsius_temperatures)"
   ]
  },
  {
   "cell_type": "markdown",
   "metadata": {},
   "source": [
    "### Question 18. Create a program to print the common elements from two lists using a `for` loop."
   ]
  },
  {
   "cell_type": "code",
   "execution_count": 21,
   "metadata": {},
   "outputs": [
    {
     "name": "stdout",
     "output_type": "stream",
     "text": [
      "The common element in the list are : [1, 3, 3, 3, 3, 2, 4, 4, 4, 2]\n"
     ]
    }
   ],
   "source": [
    "list_1 = [1,3,3,2,4,2,24,23,423,23]\n",
    "list_2 = [1,2,3,3,4,5,6,7,4,4,7,232,68,7]\n",
    "\n",
    "common_element = []\n",
    "\n",
    "for item1 in list_1:\n",
    "    for item2 in list_2:\n",
    "        if item1 == item2:\n",
    "            common_element.append(item1)\n",
    "            \n",
    "print(f\"The common element in the list are : {common_element}\")"
   ]
  },
  {
   "cell_type": "markdown",
   "metadata": {},
   "source": [
    "### Question 19. Develop a program that prints the pattern of right-angled triangles using a `for` loop. Use ‘*’ to draw the pattern\n"
   ]
  },
  {
   "cell_type": "code",
   "execution_count": 22,
   "metadata": {},
   "outputs": [
    {
     "name": "stdout",
     "output_type": "stream",
     "text": [
      "Enter the number of rows for the right-angled triangle: 8\n",
      "* \n",
      "* * \n",
      "* * * \n",
      "* * * * \n",
      "* * * * * \n",
      "* * * * * * \n",
      "* * * * * * * \n",
      "* * * * * * * * \n"
     ]
    }
   ],
   "source": [
    "num_rows = int(input(\"Enter the number of rows for the right-angled triangle: \"))\n",
    "\n",
    "for i in range(1, num_rows + 1):\n",
    "    for j in range(1, i + 1):\n",
    "        print(\"*\", end=\" \")  \n",
    "    print()  "
   ]
  },
  {
   "cell_type": "markdown",
   "metadata": {},
   "source": [
    "### Question 20. Write a program to find the greatest common divisor (GCD) of two numbers using a `for` loop."
   ]
  },
  {
   "cell_type": "code",
   "execution_count": 23,
   "metadata": {},
   "outputs": [
    {
     "name": "stdout",
     "output_type": "stream",
     "text": [
      "Enter the first number: 14\n",
      "Enter the second number: 56\n",
      "The Greatest Common Divisor (GCD) of the two numbers is: 14\n"
     ]
    }
   ],
   "source": [
    "num1 = int(input(\"Enter the first number: \"))\n",
    "num2 = int(input(\"Enter the second number: \"))\n",
    "\n",
    "while num2 != 0:\n",
    "    remainder = num1 % num2\n",
    "    num1 = num2\n",
    "    num2 = remainder\n",
    "\n",
    "gcd = num1\n",
    "\n",
    "print(\"The Greatest Common Divisor (GCD) of the two numbers is:\", gcd)"
   ]
  },
  {
   "cell_type": "markdown",
   "metadata": {},
   "source": [
    "# Advanced Level:"
   ]
  },
  {
   "cell_type": "markdown",
   "metadata": {},
   "source": [
    "### Question 21. Create a program that calculates the sum of the digits of numbers in a list using a list comprehension.\n"
   ]
  },
  {
   "cell_type": "code",
   "execution_count": 24,
   "metadata": {},
   "outputs": [
    {
     "name": "stdout",
     "output_type": "stream",
     "text": [
      "Sum of digits for each number: [5, 7, 6, 20, 5, 4, 3, 4, 4]\n"
     ]
    }
   ],
   "source": [
    "numbers = [14,16,15,236234,113,4,3,4,4]\n",
    "sums_of_digits = [sum(map(int, str(number))) for number in numbers]\n",
    "print(\"Sum of digits for each number:\", sums_of_digits)"
   ]
  },
  {
   "cell_type": "markdown",
   "metadata": {},
   "source": [
    "### Question 22. Write a program to find the prime factors of a given number using a `for` loop and list comprehension."
   ]
  },
  {
   "cell_type": "code",
   "execution_count": 25,
   "metadata": {},
   "outputs": [
    {
     "name": "stdout",
     "output_type": "stream",
     "text": [
      "Enter a number: 3\n",
      "Prime factors of 3: [3]\n"
     ]
    }
   ],
   "source": [
    "number = int(input(\"Enter a number: \"))\n",
    "factors = [x for x in range(2, number + 1) if number % x == 0 and all(x % i != 0 for i in range(2, int(x**0.5) + 1))]\n",
    "print(f\"Prime factors of {number}:\", factors)"
   ]
  },
  {
   "cell_type": "markdown",
   "metadata": {},
   "source": [
    "### Question 23. Develop a program that extracts unique elements from a list and stores them in a new list using a list comprehension."
   ]
  },
  {
   "cell_type": "code",
   "execution_count": 26,
   "metadata": {},
   "outputs": [
    {
     "name": "stdout",
     "output_type": "stream",
     "text": [
      "Unique elements: [1, 2, 3, 4, 5, 6]\n"
     ]
    }
   ],
   "source": [
    "input_list = [1, 2, 2, 3, 4, 4, 5, 6, 6]\n",
    "\n",
    "unique_elements = [x for i, x in enumerate(input_list) if x not in input_list[:i]]\n",
    "\n",
    "\n",
    "print(\"Unique elements:\", unique_elements)"
   ]
  },
  {
   "cell_type": "markdown",
   "metadata": {},
   "source": [
    "### Question 24. Create a program that generates a list of all palindromic numbers up to a specified limit using a list comprehension.\n"
   ]
  },
  {
   "cell_type": "code",
   "execution_count": 27,
   "metadata": {},
   "outputs": [
    {
     "name": "stdout",
     "output_type": "stream",
     "text": [
      "Enter the upper limit: 15\n",
      "Palindromic numbers up to the specified limit: [1, 2, 3, 4, 5, 6, 7, 8, 9, 11]\n"
     ]
    }
   ],
   "source": [
    "limit = int(input(\"Enter the upper limit: \"))\n",
    "\n",
    "# Generate a list of palindromic numbers using list comprehension\n",
    "palindromic_numbers = [num for num in range(1, limit + 1) if str(num) == str(num)[::-1]]\n",
    "\n",
    "# Print the list of palindromic numbers\n",
    "print(\"Palindromic numbers up to the specified limit:\", palindromic_numbers)"
   ]
  },
  {
   "cell_type": "markdown",
   "metadata": {},
   "source": [
    "### Question 25. Write a program to flatten a nested list using list comprehension."
   ]
  },
  {
   "cell_type": "code",
   "execution_count": 28,
   "metadata": {},
   "outputs": [
    {
     "name": "stdout",
     "output_type": "stream",
     "text": [
      "Flattened list: [1, 2, 3, 4, 5, 6, 7, 8]\n"
     ]
    }
   ],
   "source": [
    "nested_list = [[1, 2, 3], [4, 5], [6, 7, 8]]\n",
    "\n",
    "flattened_list = [item for sublist in nested_list for item in sublist]\n",
    "\n",
    "print(\"Flattened list:\", flattened_list)"
   ]
  },
  {
   "cell_type": "markdown",
   "metadata": {},
   "source": [
    "### Question 26. Develop a program that computes the sum of even and odd numbers in a list separately using list comprehension."
   ]
  },
  {
   "cell_type": "code",
   "execution_count": 29,
   "metadata": {},
   "outputs": [
    {
     "name": "stdout",
     "output_type": "stream",
     "text": [
      "Sum of even numbers: 170\n",
      "Sum of odd numbers: 32607\n"
     ]
    }
   ],
   "source": [
    "\n",
    "numbers = [1, 2, 3, 4, 5, 6, 7, 8, 9,101,32423,112,4,34,53,5]\n",
    "\n",
    "even_sum = sum([x for x in numbers if x % 2 == 0])\n",
    "even_odd = sum([x for x in numbers if x % 2 != 0])\n",
    "\n",
    "# Print the sums of even and odd numbers separately\n",
    "print(\"Sum of even numbers:\", even_sum)\n",
    "print(\"Sum of odd numbers:\", even_odd)"
   ]
  },
  {
   "cell_type": "markdown",
   "metadata": {},
   "source": [
    "### Question 27. Create a program that generates a list of squares of odd numbers between 1 and 10 using list comprehension."
   ]
  },
  {
   "cell_type": "code",
   "execution_count": 30,
   "metadata": {},
   "outputs": [
    {
     "name": "stdout",
     "output_type": "stream",
     "text": [
      "Squares of odd numbers between 1 and 10: [1, 9, 25, 49, 81]\n"
     ]
    }
   ],
   "source": [
    "odd_squares = [x ** 2 for x in range(1, 11) if x % 2 != 0]\n",
    "\n",
    "print(\"Squares of odd numbers between 1 and 10:\", odd_squares)"
   ]
  },
  {
   "cell_type": "markdown",
   "metadata": {},
   "source": [
    "### Question 28. Write a program that combines two lists into a dictionary using list comprehension."
   ]
  },
  {
   "cell_type": "code",
   "execution_count": 31,
   "metadata": {},
   "outputs": [
    {
     "name": "stdout",
     "output_type": "stream",
     "text": [
      "Combined Dictionary: {'name': 'Abhimanyu', 'age': 33, 'city': 'Bahadurgarh'}\n"
     ]
    }
   ],
   "source": [
    "keys = [\"name\", \"age\", \"city\"]\n",
    "values = [\"Abhimanyu\", 33, \"Bahadurgarh\"]\n",
    "\n",
    "combined_dict = {keys[i]: values[i] for i in range(len(keys))}\n",
    "\n",
    "print(\"Combined Dictionary:\", combined_dict)"
   ]
  },
  {
   "cell_type": "markdown",
   "metadata": {},
   "source": [
    "### Question 29. Develop a program that extracts the vowels from a string and stores them in a list using list comprehension."
   ]
  },
  {
   "cell_type": "code",
   "execution_count": 32,
   "metadata": {},
   "outputs": [
    {
     "name": "stdout",
     "output_type": "stream",
     "text": [
      "Please Enter the string: hello, my name is abhimanyu sharma and i am practicing python\n",
      "Vowels in the given string are : ['e', 'o', 'a', 'e', 'i', 'a', 'i', 'a', 'u', 'a', 'a', 'a', 'i', 'a', 'a', 'i', 'i', 'o']\n"
     ]
    }
   ],
   "source": [
    "string_1 = input(\"Please Enter the string: \").lower()\n",
    "\n",
    "vowels = ['a', 'e', 'i', 'o', 'u']\n",
    "vowel_list = [char for char in string_1 if char in vowels]\n",
    "\n",
    "print(\"Vowels in the given string are :\", vowel_list)"
   ]
  },
  {
   "cell_type": "markdown",
   "metadata": {},
   "source": [
    "### Question 30. Create a program that removes all non-numeric characters from a list of strings using list comprehension."
   ]
  },
  {
   "cell_type": "code",
   "execution_count": 33,
   "metadata": {},
   "outputs": [
    {
     "name": "stdout",
     "output_type": "stream",
     "text": [
      "Numeric strings: ['13454', '134398', '4452', '44359034.5434']\n"
     ]
    }
   ],
   "source": [
    "string_1 = [\"t13454\", \"hhghw134398\", \"4452jkjk\", \"44359034.5434\"]\n",
    "\n",
    "\n",
    "string_num = [''.join(char for char in string if char.isdigit() or char == '.') for string in string_1]\n",
    "\n",
    "print(\"Numeric strings:\", string_num)"
   ]
  },
  {
   "cell_type": "markdown",
   "metadata": {},
   "source": [
    "# Challenge Level"
   ]
  },
  {
   "cell_type": "markdown",
   "metadata": {},
   "source": [
    "### Question 31. Write a program to generate a list of prime numbers using the Sieve of Eratosthenes algorithm and list comprehension."
   ]
  },
  {
   "cell_type": "code",
   "execution_count": 34,
   "metadata": {},
   "outputs": [
    {
     "name": "stdout",
     "output_type": "stream",
     "text": [
      "Enter the upper limit to generate prime numbers: 45\n",
      "Prime numbers up to 45 are: [2, 3, 5, 7, 11, 13, 17, 19, 23, 29, 31, 37, 41, 43]\n"
     ]
    }
   ],
   "source": [
    "def sieve_eratosthenes(limit):\n",
    "    is_prime = [True] * (limit + 1)\n",
    "    is_prime[0] = is_prime[1] = False\n",
    "    \n",
    "    for p in range(2, int(limit**0.5) + 1):\n",
    "        if is_prime[p]:\n",
    "            is_prime[p**2::p] = [False] * len(is_prime[p**2::p])\n",
    "    \n",
    "    primes = [p for p, prime in enumerate(is_prime) if prime]\n",
    "    \n",
    "    return primes\n",
    "\n",
    "limit = int(input(\"Enter the upper limit to generate prime numbers: \"))\n",
    "\n",
    "\n",
    "prime_numbers = sieve_eratosthenes(limit)\n",
    "print(\"Prime numbers up to\", limit, \"are:\", prime_numbers)"
   ]
  },
  {
   "cell_type": "markdown",
   "metadata": {},
   "source": [
    "### Question 32. Create a program that generates a list of all Pythagorean triplets up to a specified limit using list comprehension.\n"
   ]
  },
  {
   "cell_type": "code",
   "execution_count": 35,
   "metadata": {},
   "outputs": [
    {
     "name": "stdout",
     "output_type": "stream",
     "text": [
      "Enter the upper limit to generate Pythagorean triplets: 8\n",
      "Pythagorean triplets up to 8 are: [(3, 4, 5)]\n"
     ]
    }
   ],
   "source": [
    "limit = int(input(\"Enter the upper limit to generate Pythagorean triplets: \"))\n",
    "\n",
    "pythagorean_triplets = []\n",
    "\n",
    "for a in range(1, limit + 1):\n",
    "    for b in range(a, limit + 1):\n",
    "        c_squared = a**2 + b**2\n",
    "        c = int(c_squared**0.5)\n",
    "        if c <= limit and c_squared == c**2:\n",
    "            pythagorean_triplets.append((a, b, c))\n",
    "\n",
    "\n",
    "print(\"Pythagorean triplets up to\", limit, \"are:\", pythagorean_triplets)"
   ]
  },
  {
   "cell_type": "markdown",
   "metadata": {},
   "source": [
    "### Question 33. Develop a program that generates a list of all possible combinations of two list using list comprehension."
   ]
  },
  {
   "cell_type": "code",
   "execution_count": 36,
   "metadata": {},
   "outputs": [
    {
     "name": "stdout",
     "output_type": "stream",
     "text": [
      "All possible combinations of elements from both lists:\n",
      "(1, 'A')\n",
      "(1, 'B')\n",
      "(1, 'C')\n",
      "(2, 'A')\n",
      "(2, 'B')\n",
      "(2, 'C')\n",
      "(3, 'A')\n",
      "(3, 'B')\n",
      "(3, 'C')\n"
     ]
    }
   ],
   "source": [
    "list_1 = [1, 2, 3]\n",
    "list_2 = ['A', 'B', 'C']\n",
    "\n",
    "combinations = [(x, y) for x in list_1 for y in list_2]\n",
    "\n",
    "\n",
    "print(\"All possible combinations of elements from both lists:\")\n",
    "for combination in combinations:\n",
    "    print(combination)"
   ]
  },
  {
   "cell_type": "markdown",
   "metadata": {},
   "source": [
    "### Question 34. write a program that calculates the mean, median, and mode of a list numbers using list comprehension."
   ]
  },
  {
   "cell_type": "code",
   "execution_count": 37,
   "metadata": {},
   "outputs": [
    {
     "name": "stdout",
     "output_type": "stream",
     "text": [
      "Mean: 60.93333333333333\n",
      "Median: 4\n",
      "Mode: 4\n"
     ]
    }
   ],
   "source": [
    "import statistics\n",
    "\n",
    "numbers = [2, 3, 1, 4, 2, 6, 4, 5, 4,5,4,5,223,112,534]\n",
    "\n",
    "mean = statistics.mean(numbers)\n",
    "median = statistics.median(numbers)\n",
    "mode = statistics.mode(numbers)\n",
    "\n",
    "print(\"Mean:\", mean)\n",
    "print(\"Median:\", median)\n",
    "print(\"Mode:\", mode)"
   ]
  },
  {
   "cell_type": "markdown",
   "metadata": {},
   "source": [
    "### Question 35. Create a program that generates pascal's triangle up to a specified numbers of rows using list comprehension."
   ]
  },
  {
   "cell_type": "code",
   "execution_count": 38,
   "metadata": {},
   "outputs": [
    {
     "name": "stdout",
     "output_type": "stream",
     "text": [
      "Enter the number of rows for Pascal's Triangle: 8\n",
      "Pascal's Triangle:\n",
      "[1]\n",
      "[1, 1]\n",
      "[1, 2, 1]\n",
      "[1, 3, 3, 1]\n",
      "[1, 4, 6, 4, 1]\n",
      "[1, 5, 10, 10, 5, 1]\n",
      "[1, 6, 15, 20, 15, 6, 1]\n",
      "[1, 7, 21, 35, 35, 21, 7, 1]\n"
     ]
    }
   ],
   "source": [
    "def generate_pascals_triangle(num_rows):\n",
    "    triangle = []\n",
    "    for i in range(num_rows):\n",
    "        row = [1 if j == 0 or j == i else row[j - 1] + row[j] for j in range(i + 1)]\n",
    "        triangle.append(row)\n",
    "    return triangle\n",
    "\n",
    "\n",
    "num_rows = int(input(\"Enter the number of rows for Pascal's Triangle: \"))\n",
    "\n",
    "\n",
    "pascals_triangle = generate_pascals_triangle(num_rows)\n",
    "print(\"Pascal's Triangle:\")\n",
    "for row in pascals_triangle:\n",
    "    print(row)"
   ]
  },
  {
   "cell_type": "markdown",
   "metadata": {},
   "source": [
    "### Question 36. Develop a program that calculates the sum of a digit of a factorial of numbers from 1 to 5 using list comprehension."
   ]
  },
  {
   "cell_type": "code",
   "execution_count": 39,
   "metadata": {},
   "outputs": [
    {
     "name": "stdout",
     "output_type": "stream",
     "text": [
      "Factorial of 1 is 1, and the sum of its digits is 1\n",
      "Factorial of 2 is 2, and the sum of its digits is 2\n",
      "Factorial of 3 is 6, and the sum of its digits is 6\n",
      "Factorial of 4 is 24, and the sum of its digits is 6\n",
      "Factorial of 5 is 120, and the sum of its digits is 3\n"
     ]
    }
   ],
   "source": [
    "def factorial(n):\n",
    "    if n == 0:\n",
    "        return 1\n",
    "    else:\n",
    "        return n * factorial(n - 1)\n",
    "\n",
    "for num in range(1, 6):\n",
    "    fact = factorial(num)\n",
    "    digit_sum = sum(int(digit) for digit in str(fact))\n",
    "    print(f\"Factorial of {num} is {fact}, and the sum of its digits is {digit_sum}\")"
   ]
  },
  {
   "cell_type": "markdown",
   "metadata": {},
   "source": [
    "### Question 37. Write a program to find the longest word in a sentence using list comprehension."
   ]
  },
  {
   "cell_type": "code",
   "execution_count": 40,
   "metadata": {},
   "outputs": [
    {
     "name": "stdout",
     "output_type": "stream",
     "text": [
      "Please enter the sentence: hello, my name is abhimanyu sharma and i am practicing python\n",
      "The longest word in the given sentence is: practicing\n"
     ]
    }
   ],
   "source": [
    "\n",
    "sentence = input(\"Please enter the sentence: \")\n",
    "\n",
    "words = sentence.split()\n",
    "longest_word = max(words, key=len)\n",
    "\n",
    "print(\"The longest word in the given sentence is:\", longest_word)"
   ]
  },
  {
   "cell_type": "markdown",
   "metadata": {},
   "source": [
    "### Question 38. Create a program that filters a list of strings to include only those with more than threee vowels using list comprehension."
   ]
  },
  {
   "cell_type": "code",
   "execution_count": 41,
   "metadata": {},
   "outputs": [
    {
     "name": "stdout",
     "output_type": "stream",
     "text": [
      "Strings with more than three vowels: ['abhimanyu']\n"
     ]
    }
   ],
   "source": [
    "string_list = [\"Hello\", \"my\", \"name\", \"is\", \"abhimanyu\", \"sharma\", \"and\", \"i\", \"am\", \"practicing\", \"python\"]\n",
    "\n",
    "def count_vowels(string):\n",
    "    return sum(1 for char in string if char in \"aeiouAEIOU\")\n",
    "\n",
    "filtered_strings = [string for string in string_list if count_vowels(string) > 3]\n",
    "\n",
    "print(\"Strings with more than three vowels:\", filtered_strings)"
   ]
  },
  {
   "cell_type": "markdown",
   "metadata": {},
   "source": [
    "### Question 39. Develop a program that calculates the sum of the digits of numbers from 1 to 1000 using list comprehension."
   ]
  },
  {
   "cell_type": "code",
   "execution_count": 42,
   "metadata": {},
   "outputs": [
    {
     "name": "stdout",
     "output_type": "stream",
     "text": [
      "The sum of the digits of numbers from 1 to 1000 is: 13501\n"
     ]
    }
   ],
   "source": [
    "digit_sums = [sum(int(digit) for digit in str(number)) for number in range(1, 1001)]\n",
    "\n",
    "\n",
    "total_sum = sum(digit_sums)\n",
    "\n",
    "\n",
    "print(\"The sum of the digits of numbers from 1 to 1000 is:\", total_sum)"
   ]
  },
  {
   "cell_type": "markdown",
   "metadata": {},
   "source": [
    "### Question 40. Write a program that generates a list of prime palindromic numbers using list comprehension."
   ]
  },
  {
   "cell_type": "code",
   "execution_count": 43,
   "metadata": {},
   "outputs": [
    {
     "name": "stdout",
     "output_type": "stream",
     "text": [
      "[1, 2, 3, 5, 7, 11, 101, 131, 151, 181, 191, 313, 353, 373, 383, 727, 757, 787, 797, 919, 929]\n"
     ]
    }
   ],
   "source": [
    "def is_palindrome(n):\n",
    "    return str(n) == str(n)[::-1]\n",
    "\n",
    "prime_palindromic_numbers = [n for n in range(1, 1001) if is_palindrome(n) and all(n % i != 0 for i in range(2, int(n**0.5) + 1))]\n",
    "\n",
    "print(prime_palindromic_numbers)"
   ]
  },
  {
   "cell_type": "code",
   "execution_count": null,
   "metadata": {},
   "outputs": [],
   "source": []
  }
 ],
 "metadata": {
  "kernelspec": {
   "display_name": "Python 3",
   "language": "python",
   "name": "python3"
  },
  "language_info": {
   "codemirror_mode": {
    "name": "ipython",
    "version": 3
   },
   "file_extension": ".py",
   "mimetype": "text/x-python",
   "name": "python",
   "nbconvert_exporter": "python",
   "pygments_lexer": "ipython3",
   "version": "3.8.5"
  }
 },
 "nbformat": 4,
 "nbformat_minor": 4
}
